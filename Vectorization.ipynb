{
 "cells": [
  {
   "cell_type": "markdown",
   "id": "3054764d-59f0-4086-84c5-6e0f958f5db3",
   "metadata": {},
   "source": [
    "<center><h1> Welcome Vectorization in Python </h1></center>"
   ]
  },
  {
   "cell_type": "code",
   "execution_count": 1,
   "id": "78781e51-5596-4299-b746-ccf1ec9b6007",
   "metadata": {},
   "outputs": [],
   "source": [
    "import time\n",
    "import numpy as np\n",
    "import pandas as pd"
   ]
  },
  {
   "cell_type": "markdown",
   "id": "5386a831-fcf6-48a8-8640-f35a6ec02b0e",
   "metadata": {
    "tags": []
   },
   "source": [
    "## Use Vectorization — a super fast alternative to loops in Python"
   ]
  },
  {
   "cell_type": "markdown",
   "id": "66889cb2-6cd5-4768-9bd4-28ea754bbed6",
   "metadata": {},
   "source": [
    "<b> What is Vectorization?\n",
    "\n",
    "Vectorization is the technique of implementing (NumPy) array operations on a dataset. In the background, it applies the operations to all the elements of an array or series in one go (unlike a ‘for’ loop that manipulates one row at a time)."
   ]
  },
  {
   "cell_type": "markdown",
   "id": "c89c0a36-b351-4e5a-a0b7-c2dfe8625618",
   "metadata": {},
   "source": [
    "### Using Loops"
   ]
  },
  {
   "cell_type": "code",
   "execution_count": 2,
   "id": "5375031c-c98e-4873-9cfa-4ed793a12eff",
   "metadata": {},
   "outputs": [
    {
     "name": "stdout",
     "output_type": "stream",
     "text": [
      "sum is:1124999250000\n",
      "0.12664484977722168\n"
     ]
    }
   ],
   "source": [
    "start = time.time()\n",
    "\n",
    " \n",
    "# iterative sum\n",
    "total = 0\n",
    "# iterating through 1.5 Million numbers\n",
    "for item in range(0, 1500000):\n",
    "    total = total + item\n",
    "\n",
    "\n",
    "print('sum is:' + str(total))\n",
    "end = time.time()\n",
    "\n",
    "print(end - start)"
   ]
  },
  {
   "cell_type": "markdown",
   "id": "3d8eaa3a-b3f4-4840-ab8a-80d50cdcc168",
   "metadata": {},
   "source": [
    "### Using vectorization"
   ]
  },
  {
   "cell_type": "code",
   "execution_count": 3,
   "id": "1b66f927-a519-45e2-9942-c5a000e4717f",
   "metadata": {},
   "outputs": [
    {
     "name": "stdout",
     "output_type": "stream",
     "text": [
      "1124999250000\n",
      "0.005387783050537109\n"
     ]
    }
   ],
   "source": [
    "start = time.time()\n",
    "\n",
    "# vectorized sum - using numpy for vectorization\n",
    "# np.arange create the sequence of numbers from 0 to 1499999\n",
    "print(np.sum(np.arange(1500000)))\n",
    "\n",
    "end = time.time()\n",
    "\n",
    "print(end - start)"
   ]
  },
  {
   "cell_type": "markdown",
   "id": "9e0b59cc-a426-4c77-9b28-d70bc2e7a0a6",
   "metadata": {},
   "source": [
    "Vectorization took ~18x lesser time to execute as compared to the iteration using the range function."
   ]
  },
  {
   "cell_type": "markdown",
   "id": "96d0fe70-6eb1-4461-beae-1820e69a3e1e",
   "metadata": {},
   "source": [
    "### Using Loops in Pandas"
   ]
  },
  {
   "cell_type": "code",
   "execution_count": 7,
   "id": "86025cbb-6401-4b39-b8e1-3d50943af391",
   "metadata": {},
   "outputs": [
    {
     "data": {
      "text/html": [
       "<div><div id=95fdbb02-df3c-4c72-914e-07bc1bf0e935 style=\"display:none; background-color:#9D6CFF; color:white; width:200px; height:30px; padding-left:5px; border-radius:4px; flex-direction:row; justify-content:space-around; align-items:center;\" onmouseover=\"this.style.backgroundColor='#BA9BF8'\" onmouseout=\"this.style.backgroundColor='#9D6CFF'\" onclick=\"window.commands?.execute('create-mitosheet-from-dataframe-output');\">See Full Dataframe in Mito</div> <script> if (window.commands.hasCommand('create-mitosheet-from-dataframe-output')) document.getElementById('95fdbb02-df3c-4c72-914e-07bc1bf0e935').style.display = 'flex' </script> <table border=\"1\" class=\"dataframe\">\n",
       "  <thead>\n",
       "    <tr style=\"text-align: right;\">\n",
       "      <th></th>\n",
       "      <th>a</th>\n",
       "      <th>b</th>\n",
       "      <th>c</th>\n",
       "      <th>d</th>\n",
       "    </tr>\n",
       "  </thead>\n",
       "  <tbody>\n",
       "    <tr>\n",
       "      <th>0</th>\n",
       "      <td>48</td>\n",
       "      <td>21</td>\n",
       "      <td>42</td>\n",
       "      <td>32</td>\n",
       "    </tr>\n",
       "    <tr>\n",
       "      <th>1</th>\n",
       "      <td>11</td>\n",
       "      <td>28</td>\n",
       "      <td>45</td>\n",
       "      <td>41</td>\n",
       "    </tr>\n",
       "    <tr>\n",
       "      <th>2</th>\n",
       "      <td>26</td>\n",
       "      <td>5</td>\n",
       "      <td>8</td>\n",
       "      <td>9</td>\n",
       "    </tr>\n",
       "    <tr>\n",
       "      <th>3</th>\n",
       "      <td>16</td>\n",
       "      <td>38</td>\n",
       "      <td>9</td>\n",
       "      <td>18</td>\n",
       "    </tr>\n",
       "    <tr>\n",
       "      <th>4</th>\n",
       "      <td>38</td>\n",
       "      <td>19</td>\n",
       "      <td>41</td>\n",
       "      <td>8</td>\n",
       "    </tr>\n",
       "  </tbody>\n",
       "</table></div>"
      ],
      "text/plain": [
       "    a   b   c   d\n",
       "0  48  21  42  32\n",
       "1  11  28  45  41\n",
       "2  26   5   8   9\n",
       "3  16  38   9  18\n",
       "4  38  19  41   8"
      ]
     },
     "execution_count": 7,
     "metadata": {},
     "output_type": "execute_result"
    }
   ],
   "source": [
    "df = pd.DataFrame(np.random.randint(1, 50, size=(5000000, 4)), columns=('a','b','c','d'))\n",
    "df.shape\n",
    "# (5000000, 5)\n",
    "df.head()"
   ]
  },
  {
   "cell_type": "code",
   "execution_count": 8,
   "id": "e3f062d0-498d-4fc5-80bf-013db7ab18fa",
   "metadata": {},
   "outputs": [
    {
     "name": "stdout",
     "output_type": "stream",
     "text": [
      "83.0325939655304\n"
     ]
    }
   ],
   "source": [
    "start = time.time()\n",
    "\n",
    "# Iterating through DataFrame using iterrows\n",
    "for idx, row in df.iterrows():\n",
    "    # creating a new column \n",
    "    df.at[idx,'ratio'] = 100 * (row[\"d\"] / row[\"c\"])  \n",
    "end = time.time()\n",
    "print(end - start)"
   ]
  },
  {
   "cell_type": "markdown",
   "id": "c336632d-7096-4c7e-b74b-e533b966a001",
   "metadata": {},
   "source": [
    "### Using vectorization in Pandas"
   ]
  },
  {
   "cell_type": "code",
   "execution_count": 9,
   "id": "8526f18f-2155-4b03-8e53-c2fecf3de6a9",
   "metadata": {},
   "outputs": [
    {
     "name": "stdout",
     "output_type": "stream",
     "text": [
      "0.042204856872558594\n"
     ]
    }
   ],
   "source": [
    "start = time.time()\n",
    "df[\"ratio\"] = 100 * (df[\"d\"] / df[\"c\"])\n",
    "\n",
    "end = time.time()\n",
    "print(end - start)"
   ]
  },
  {
   "cell_type": "markdown",
   "id": "4c71fff9-0561-4ee3-b8b9-df1b58d593b4",
   "metadata": {},
   "source": [
    "### Using Loops in If-else Statements "
   ]
  },
  {
   "cell_type": "code",
   "execution_count": 11,
   "id": "a95b4bef-4b8d-46e5-896e-78639778203c",
   "metadata": {},
   "outputs": [
    {
     "name": "stdout",
     "output_type": "stream",
     "text": [
      "135.10734510421753\n"
     ]
    }
   ],
   "source": [
    "start = time.time()\n",
    "\n",
    "# Iterating through DataFrame using iterrows\n",
    "for idx, row in df.iterrows():\n",
    "    if row.a == 0:\n",
    "        df.at[idx,'e'] = row.d    \n",
    "    elif (row.a <= 25) & (row.a > 0):\n",
    "        df.at[idx,'e'] = (row.b)-(row.c)    \n",
    "    else:\n",
    "        df.at[idx,'e'] = row.b + row.c\n",
    "\n",
    "end = time.time()\n",
    "\n",
    "print(end - start)"
   ]
  },
  {
   "cell_type": "markdown",
   "id": "f2b1b6bf-818b-4d60-832b-cea6ce16caef",
   "metadata": {},
   "source": [
    "### Using vectorization in If-else Statements"
   ]
  },
  {
   "cell_type": "code",
   "execution_count": 13,
   "id": "72ed480c-48bc-44b8-98ec-9f435beedd21",
   "metadata": {},
   "outputs": [
    {
     "name": "stdout",
     "output_type": "stream",
     "text": [
      "0.13132715225219727\n"
     ]
    }
   ],
   "source": [
    "start = time.time()\n",
    "df['e'] = df['b'] + df['c']\n",
    "df.loc[df['a'] <= 25, 'e'] = df['b'] -df['c']\n",
    "df.loc[df['a']==0, 'e'] = df['d']\n",
    "end = time.time()\n",
    "print(end - start)"
   ]
  },
  {
   "cell_type": "markdown",
   "id": "6c15e7d4-601d-44be-ad0f-6ff3968d6fd0",
   "metadata": {},
   "source": [
    "## Use Vectorization — a super fast alternative solving Machine Learning/Deep Learning Networks in Python"
   ]
  },
  {
   "cell_type": "code",
   "execution_count": 24,
   "id": "b4b3cbb3-b2dd-465a-801f-0457712018db",
   "metadata": {},
   "outputs": [],
   "source": [
    "# setting initial values of m \n",
    "m = np.random.rand(1,5)\n",
    "\n",
    "# input values for 5 million rows\n",
    "x = np.random.rand(5000000,5)"
   ]
  },
  {
   "cell_type": "code",
   "execution_count": 25,
   "id": "ef2cc44f-9d0a-4474-82e1-1a143fbab5fd",
   "metadata": {},
   "outputs": [],
   "source": [
    "## Using loops"
   ]
  },
  {
   "cell_type": "code",
   "execution_count": 26,
   "id": "6e45309c-b72e-450f-9000-50b44203515b",
   "metadata": {},
   "outputs": [
    {
     "name": "stdout",
     "output_type": "stream",
     "text": [
      "Computation time = 10.212377000000004 seconds\n"
     ]
    }
   ],
   "source": [
    "total = 0\n",
    "tic = time.process_time()\n",
    "\n",
    "for i in range(0,5000000):\n",
    "    total = 0\n",
    "    for j in range(0,5):\n",
    "        total = total + x[i][j]*m[0][j] \n",
    "        \n",
    "    x[i] = total \n",
    "\n",
    "toc = time.process_time()\n",
    "print (\"Computation time = \" + str((toc - tic)) + \" seconds\")"
   ]
  },
  {
   "cell_type": "code",
   "execution_count": 27,
   "id": "1bc24df1-4ff1-4146-8abe-ae786cced24d",
   "metadata": {},
   "outputs": [],
   "source": [
    "## Using vectorization"
   ]
  },
  {
   "cell_type": "code",
   "execution_count": 29,
   "id": "475da3bb-5462-428f-b548-9ca3fbfba506",
   "metadata": {},
   "outputs": [
    {
     "name": "stdout",
     "output_type": "stream",
     "text": [
      "Computation time = 0.04974600000002738 seconds\n"
     ]
    }
   ],
   "source": [
    "total = 0\n",
    "tic = time.process_time()\n",
    "\n",
    "#dot product \n",
    "np.dot(x,m.T) \n",
    "\n",
    "toc = time.process_time()\n",
    "print (\"Computation time = \" + str((toc - tic)) + \" seconds\")"
   ]
  },
  {
   "cell_type": "code",
   "execution_count": null,
   "id": "a8963428-f3fd-4981-90ea-d34a549b181f",
   "metadata": {},
   "outputs": [],
   "source": []
  }
 ],
 "metadata": {
  "kernelspec": {
   "display_name": "miacar",
   "language": "python",
   "name": "miacar"
  },
  "language_info": {
   "codemirror_mode": {
    "name": "ipython",
    "version": 3
   },
   "file_extension": ".py",
   "mimetype": "text/x-python",
   "name": "python",
   "nbconvert_exporter": "python",
   "pygments_lexer": "ipython3",
   "version": "3.8.12"
  }
 },
 "nbformat": 4,
 "nbformat_minor": 5
}
